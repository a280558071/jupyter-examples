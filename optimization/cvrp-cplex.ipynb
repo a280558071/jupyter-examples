{
 "cells": [
  {
   "cell_type": "markdown",
   "metadata": {},
   "source": [
    "# Capacitated Vehicle Routing Problem\n",
    "\n",
    "<img src=\"http://neo.lcc.uma.es/dynamic/images/vrp.png\" width=\"400\" />\n",
    "\n",
    "- $n$ is the number of clientes\n",
    "- $N$ is set of clients, with $N=\\{1,2,...,n\\}$\n",
    "- $V$ is set of vetices (or nodes), with $V=\\{0\\}\\cup N$\n",
    "- $A$ is set of arcs, with $A=\\{(i,j)\\in V^2 : i\\neq j\\}$\n",
    "- $c_{ij}$ is cost of travel over arc $(i,j)\\in A$\n",
    "- $Q$ is the vehicle capacity\n",
    "- $q_i$ is the amount that has to be delivered to customer $i\\in N$\n",
    "\n",
    "Then, the formulation is the following\n",
    "$$\\begin{align}\n",
    "\\min \\quad & \\sum_{i,j\\in A} c_{ij} x_{ij} \\\\\n",
    "\\text{s.t.} \\quad & \\sum_{j\\in V , j\\neq i} x_{ij} = 1  && i \\in N \\\\\n",
    "& \\sum_{i\\in V , i\\neq j} x_{ij} = 1 && j \\in N \\\\\n",
    "& \\text{if} \\ x_{ij}=1 \\ \\Rightarrow \\ u_i + q_j = u_j && i,j \\in A : j\\neq 0, i\\neq 0 \\\\\n",
    "& q_i \\leq u_i \\leq Q && i \\in N \\\\\n",
    "& x_{ij} \\in \\{0,1\\} && i,j \\in A\n",
    "\\end{align}$$"
   ]
  },
  {
   "cell_type": "code",
   "execution_count": 3,
   "metadata": {},
   "outputs": [],
   "source": [
    "import numpy as np"
   ]
  },
  {
   "cell_type": "code",
   "execution_count": 4,
   "metadata": {},
   "outputs": [],
   "source": [
    "rnd = np.random\n",
    "rnd.seed(0)"
   ]
  },
  {
   "cell_type": "code",
   "execution_count": 5,
   "metadata": {},
   "outputs": [],
   "source": [
    "n = 10\n",
    "Q = 20\n",
    "N = [i for i in range(1, n+1)]\n",
    "V = [0] + N\n",
    "q = {i: rnd.randint(1, 10) for i in N}"
   ]
  },
  {
   "cell_type": "code",
   "execution_count": 6,
   "metadata": {},
   "outputs": [],
   "source": [
    "loc_x = rnd.rand(len(V))*200\n",
    "loc_y = rnd.rand(len(V))*100"
   ]
  },
  {
   "cell_type": "code",
   "execution_count": 7,
   "metadata": {},
   "outputs": [],
   "source": [
    "import matplotlib.pyplot as plt"
   ]
  },
  {
   "cell_type": "code",
   "execution_count": 8,
   "metadata": {},
   "outputs": [
    {
     "data": {
      "text/plain": [
       "(-5.390764142541891, 202.16699573081289, 7.525723005074169, 102.16355380509556)"
      ]
     },
     "execution_count": 8,
     "metadata": {},
     "output_type": "execute_result"
    },
    {
     "data": {
      "image/png": "[encoded data removed]",
      "text/plain": [
       "<Figure size 432x288 with 1 Axes>"
      ]
     },
     "metadata": {
      "needs_background": "light"
     },
     "output_type": "display_data"
    }
   ],
   "source": [
    "plt.scatter(loc_x[1:], loc_y[1:], c='b')\n",
    "for i in N:\n",
    "    plt.annotate('$q_%d=%d$' % (i, q[i]), (loc_x[i]+2, loc_y[i]))\n",
    "plt.plot(loc_x[0], loc_y[0], c='r', marker='s')\n",
    "plt.axis('equal')"
   ]
  },
  {
   "cell_type": "code",
   "execution_count": 9,
   "metadata": {},
   "outputs": [],
   "source": [
    "A = [(i, j) for i in V for j in V if i != j]\n",
    "c = {(i, j): np.hypot(loc_x[i]-loc_x[j], loc_y[i]-loc_y[j]) for i, j in A}"
   ]
  },
  {
   "cell_type": "code",
   "execution_count": 12,
   "metadata": {},
   "outputs": [],
   "source": [
    "from docplex.mp.model import Model"
   ]
  },
  {
   "cell_type": "code",
   "execution_count": 13,
   "metadata": {},
   "outputs": [],
   "source": [
    "mdl = Model('CVRP')"
   ]
  },
  {
   "cell_type": "code",
   "execution_count": 14,
   "metadata": {},
   "outputs": [],
   "source": [
    "x = mdl.binary_var_dict(A, name='x')\n",
    "u = mdl.continuous_var_dict(N, ub=Q, name='u')"
   ]
  },
  {
   "cell_type": "code",
   "execution_count": 20,
   "metadata": {},
   "outputs": [
    {
     "name": "stdout",
     "output_type": "stream",
     "text": [
      "Version identifier: 12.10.0.0 | 2019-11-26 | 843d4de2ae\n",
      "CPXPARAM_Read_DataCheck                          1\n",
      "CPXPARAM_TimeLimit                               15\n",
      "Reduced MIP has 240 rows, 300 columns, and 960 nonzeros.\n",
      "Reduced MIP has 110 binaries, 0 generals, 0 SOSs, and 180 indicators.\n",
      "Presolve time = 0.00 sec. (0.13 ticks)\n",
      "11 of 11 MIP starts provided solutions.\n",
      "MIP start 'm1' defined initial solution with objective 726.2486.\n",
      "Tried aggregator 2 times.\n",
      "MIP Presolve eliminated 40 rows and 0 columns.\n",
      "MIP Presolve modified 135 coefficients.\n",
      "Aggregator did 135 substitutions.\n",
      "Reduced MIP has 65 rows, 165 columns, and 335 nonzeros.\n",
      "Reduced MIP has 110 binaries, 0 generals, 0 SOSs, and 180 indicators.\n",
      "Presolve time = 0.02 sec. (0.60 ticks)\n",
      "Probing time = 0.00 sec. (0.33 ticks)\n",
      "Tried aggregator 1 time.\n",
      "Detecting symmetries...\n",
      "Reduced MIP has 65 rows, 165 columns, and 335 nonzeros.\n",
      "Reduced MIP has 110 binaries, 0 generals, 0 SOSs, and 180 indicators.\n",
      "Presolve time = 0.02 sec. (0.28 ticks)\n",
      "Probing time = 0.00 sec. (0.31 ticks)\n",
      "Clique table members: 65.\n",
      "MIP emphasis: balance optimality and feasibility.\n",
      "MIP search method: dynamic search.\n",
      "Parallel mode: deterministic, using up to 8 threads.\n",
      "Root relaxation solution time = 0.02 sec. (0.13 ticks)\n",
      "\n",
      "        Nodes                                         Cuts/\n",
      "   Node  Left     Objective  IInf  Best Integer    Best Bound    ItCnt     Gap\n",
      "\n",
      "*     0+    0                          726.2486        0.0000           100.00%\n",
      "      0     0      456.3031    10      726.2486      456.3031       15   37.17%\n",
      "      0     0      477.8467    10      726.2486      Cuts: 23       26   34.20%\n",
      "      0     0      477.8467    10      726.2486      Cuts: 18       38   34.20%\n",
      "      0     0      477.8467    10      726.2486       Cuts: 3       39   34.20%\n",
      "Detecting symmetries...\n",
      "      0     2      477.8467    12      726.2486      477.8467       39   34.20%\n",
      "Elapsed time = 0.34 sec. (4.66 ticks, tree = 0.02 MB, solutions = 11)\n",
      "\n",
      "Performing restart 1\n",
      "\n",
      "Repeating presolve.\n",
      "Tried aggregator 1 time.\n",
      "Reduced MIP has 65 rows, 165 columns, and 335 nonzeros.\n",
      "Reduced MIP has 110 binaries, 0 generals, 0 SOSs, and 180 indicators.\n",
      "Presolve time = 0.00 sec. (0.17 ticks)\n",
      "Tried aggregator 1 time.\n",
      "Reduced MIP has 65 rows, 165 columns, and 335 nonzeros.\n",
      "Reduced MIP has 110 binaries, 0 generals, 0 SOSs, and 180 indicators.\n",
      "Presolve time = 0.01 sec. (0.28 ticks)\n",
      "Represolve time = 0.03 sec. (1.50 ticks)\n",
      "   6716     0      484.0331    18      726.2486      Cuts: 16    43964   13.97%\n",
      "   6716     0      490.4492    18      726.2486       Cuts: 4    43967   13.97%\n",
      "   6716     0      491.3074    18      726.2486      Cuts: 25    43981   13.97%\n",
      "   6716     0      500.2467    18      726.2486      Cuts: 31    43992   13.97%\n",
      "   6716     0      503.0517    18      726.2486      Cuts: 26    44003   13.97%\n",
      "   6716     0      503.0517    18      726.2486      Cuts: 20    44011   13.97%\n",
      "   6716     0      503.0517    18      726.2486   Impl Bds: 3    44012   13.97%\n",
      "\n",
      "Clique cuts applied:  3\n",
      "Cover cuts applied:  108\n",
      "Implied bound cuts applied:  128\n",
      "Gomory fractional cuts applied:  8\n",
      "\n",
      "Root node processing (before b&c):\n",
      "  Real time             =    0.24 sec. (4.63 ticks)\n",
      "Parallel b&c, 8 threads:\n",
      "  Real time             =    4.69 sec. (208.32 ticks)\n",
      "  Sync time (average)   =    2.04 sec.\n",
      "  Wait time (average)   =    0.00 sec.\n",
      "                          ------------\n",
      "Total (root+branch&cut) =    4.92 sec. (212.95 ticks)\n"
     ]
    }
   ],
   "source": [
    "mdl.minimize(mdl.sum(c[i, j]*x[i, j] for i, j in A))\n",
    "mdl.add_constraints(mdl.sum(x[i, j] for j in V if j != i) == 1 for i in N)\n",
    "mdl.add_constraints(mdl.sum(x[i, j] for i in V if i != j) == 1 for j in N)\n",
    "mdl.add_indicator_constraints(mdl.indicator_constraint(x[i, j], u[i]+q[j] == u[j]) for i, j in A if i != 0 and j != 0)\n",
    "mdl.add_constraints(u[i] >= q[i] for i in N)\n",
    "mdl.parameters.timelimit = 15\n",
    "solution = mdl.solve(log_output=True)"
   ]
  },
  {
   "cell_type": "code",
   "execution_count": 21,
   "metadata": {},
   "outputs": [
    {
     "name": "stdout",
     "output_type": "stream",
     "text": [
      "solution for: CVRP\n",
      "objective: 726.249\n",
      "x_0_2=1\n",
      "x_0_5=1\n",
      "x_0_10=1\n",
      "x_1_0=1\n",
      "x_2_9=1\n",
      "x_3_0=1\n",
      "x_4_0=1\n",
      "x_5_3=1\n",
      "x_6_1=1\n",
      "x_7_8=1\n",
      "x_8_4=1\n",
      "x_9_7=1\n",
      "x_10_6=1\n",
      "u_1=18.000\n",
      "u_2=1.000\n",
      "u_3=20.000\n",
      "u_4=19.000\n",
      "u_5=16.000\n",
      "u_6=12.000\n",
      "u_7=12.000\n",
      "u_8=15.000\n",
      "u_9=6.000\n",
      "u_10=8.000\n",
      "\n"
     ]
    }
   ],
   "source": [
    "print(solution)"
   ]
  },
  {
   "cell_type": "code",
   "execution_count": 17,
   "metadata": {},
   "outputs": [
    {
     "data": {
      "text/plain": [
       "<JobSolveStatus.OPTIMAL_SOLUTION: 2>"
      ]
     },
     "execution_count": 17,
     "metadata": {},
     "output_type": "execute_result"
    }
   ],
   "source": [
    "solution.solve_status"
   ]
  },
  {
   "cell_type": "code",
   "execution_count": 18,
   "metadata": {},
   "outputs": [],
   "source": [
    "active_arcs = [a for a in A if x[a].solution_value > 0.9]"
   ]
  },
  {
   "cell_type": "code",
   "execution_count": 19,
   "metadata": {},
   "outputs": [
    {
     "data": {
      "text/plain": [
       "(-5.390764142541891, 202.16699573081289, 7.525723005074169, 102.16355380509556)"
      ]
     },
     "execution_count": 19,
     "metadata": {},
     "output_type": "execute_result"
    },
    {
     "data": {
      "image/png": "[encoded data removed]",
      "text/plain": [
       "<Figure size 432x288 with 1 Axes>"
      ]
     },
     "metadata": {
      "needs_background": "light"
     },
     "output_type": "display_data"
    }
   ],
   "source": [
    "plt.scatter(loc_x[1:], loc_y[1:], c='b')\n",
    "for i in N:\n",
    "    plt.annotate('$q_%d=%d$' % (i, q[i]), (loc_x[i]+2, loc_y[i]))\n",
    "for i, j in active_arcs:\n",
    "    plt.plot([loc_x[i], loc_x[j]], [loc_y[i], loc_y[j]], c='g', alpha=0.3)\n",
    "plt.plot(loc_x[0], loc_y[0], c='r', marker='s')\n",
    "plt.axis('equal')"
   ]
  }
 ],
 "metadata": {
  "kernelspec": {
   "display_name": "Python 3.7.12 ('py37')",
   "language": "python",
   "name": "python3"
  },
  "language_info": {
   "codemirror_mode": {
    "name": "ipython",
    "version": 3
   },
   "file_extension": ".py",
   "mimetype": "text/x-python",
   "name": "python",
   "nbconvert_exporter": "python",
   "pygments_lexer": "ipython3",
   "version": "3.7.12"
  },
  "vscode": {
   "interpreter": {
    "hash": "5ecfabb7306a3c4c2d025a7ad317103a8bab66622e393fe13dbaf2cd206c6383"
   }
  }
 },
 "nbformat": 4,
 "nbformat_minor": 2
}
